{
 "cells": [
  {
   "cell_type": "code",
   "execution_count": 1,
   "metadata": {},
   "outputs": [
    {
     "name": "stdout",
     "output_type": "stream",
     "text": [
      "Defaulting to user installation because normal site-packages is not writeable\n",
      "Collecting numpy\n",
      "  Downloading numpy-2.0.2-cp39-cp39-macosx_14_0_arm64.whl (5.3 MB)\n",
      "\u001b[K     |████████████████████████████████| 5.3 MB 661 kB/s eta 0:00:01\n",
      "\u001b[?25hInstalling collected packages: numpy\n",
      "Successfully installed numpy-2.0.2\n",
      "\u001b[33mWARNING: You are using pip version 21.2.4; however, version 24.3.1 is available.\n",
      "You should consider upgrading via the '/Library/Developer/CommandLineTools/usr/bin/python3 -m pip install --upgrade pip' command.\u001b[0m\n",
      "Note: you may need to restart the kernel to use updated packages.\n"
     ]
    }
   ],
   "source": [
    "%pip install numpy"
   ]
  },
  {
   "cell_type": "code",
   "execution_count": 1,
   "metadata": {},
   "outputs": [],
   "source": [
    "import numpy as np\n",
    "\n",
    "# Define Array\n",
    "x_arr = [\n",
    "    [\n",
    "        [4, -1, 2],\n",
    "        [3, 6, -1],\n",
    "        [2, 1, 5],\n",
    "    ],\n",
    "    [\n",
    "        [6, -1, 2, 0],\n",
    "        [3, 9, 1, -4],\n",
    "        [1, 2, 7, -1],\n",
    "        [2, -3, 1, 8],\n",
    "    ],\n",
    "    [\n",
    "        [6, -1, 2, 0, 0],\n",
    "        [1, 10, 3, -2, 0],\n",
    "        [2, -1, 12, 1, -4],\n",
    "        [0, 3, -2, 9, 1],\n",
    "        [1, -2, 1, 3, 8],\n",
    "    ]\n",
    "]\n",
    "\n",
    "y_arr = [\n",
    "    [8, 9, 3],\n",
    "    [12, 18, 14, 4],\n",
    "    [14, 20, 22, 12, 15],\n",
    "]"
   ]
  },
  {
   "cell_type": "code",
   "execution_count": 3,
   "metadata": {},
   "outputs": [],
   "source": [
    "def chech_diagonal_dominant(x):\n",
    "    # change into array\n",
    "    x = np.array(x)\n",
    "    # take out the diagonal from the array\n",
    "    diag = np.diag(np.abs(x))\n",
    "    # take out the non-diagonal\n",
    "    non_diag = np.sum(np.abs(x), axis = 1)\n",
    "    # check if the diagonal >= non_diag\n",
    "    if np.all(diag >= non_diag - diag):\n",
    "        return True\n",
    "    else:\n",
    "        return False\n",
    "    \n",
    "def gauss_seidel(x_arr, y_arr, max_iteration, epsilon):\n",
    "    # change into array\n",
    "    x = np.array(x_arr)\n",
    "    y = np.array(y_arr)\n",
    "    iteration = max_iteration\n",
    "    epsilon = epsilon\n",
    "    \n",
    "    diag = np.diag(x)\n",
    "    \n",
    "    x = -x\n",
    "    \n",
    "    np.fill_diagonal(x, 0)\n",
    "\n",
    "    x_old = np.zeros(len(x))\n",
    "    \n",
    "    for i in range(iteration):\n",
    "        x_new = np.array(x_old)\n",
    "        \n",
    "        \n",
    "        for j, row in enumerate(x):\n",
    "            # formula gauss-seidel\n",
    "            x_new[j] = (y[j] + np.dot(row, x_new)) / diag[j]\n",
    "\n",
    "        print(f\"Iteration: {i+1}, {x_new}\")\n",
    "        \n",
    "        # error => Ecluidean Distance\n",
    "        ecludean_Distance = np.sqrt(np.dot(x_old - x_new, x_old - x_new))\n",
    "            \n",
    "        if ecludean_Distance < epsilon:\n",
    "            print(\"Convergence range reached at {i+1} iteration\")\n",
    "            print(x_new)\n",
    "            return True\n",
    "        \n",
    "    return False"
   ]
  }
 ],
 "metadata": {
  "kernelspec": {
   "display_name": "Python 3",
   "language": "python",
   "name": "python3"
  },
  "language_info": {
   "codemirror_mode": {
    "name": "ipython",
    "version": 3
   },
   "file_extension": ".py",
   "mimetype": "text/x-python",
   "name": "python",
   "nbconvert_exporter": "python",
   "pygments_lexer": "ipython3",
   "version": "3.9.6"
  }
 },
 "nbformat": 4,
 "nbformat_minor": 2
}
