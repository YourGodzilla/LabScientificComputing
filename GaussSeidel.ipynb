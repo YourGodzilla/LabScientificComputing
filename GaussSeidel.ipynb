{
 "cells": [
  {
   "cell_type": "code",
   "execution_count": 1,
   "metadata": {},
   "outputs": [
    {
     "name": "stdout",
     "output_type": "stream",
     "text": [
      "Defaulting to user installation because normal site-packages is not writeable\n",
      "Collecting numpy\n",
      "  Downloading numpy-2.0.2-cp39-cp39-macosx_14_0_arm64.whl (5.3 MB)\n",
      "\u001b[K     |████████████████████████████████| 5.3 MB 661 kB/s eta 0:00:01\n",
      "\u001b[?25hInstalling collected packages: numpy\n",
      "Successfully installed numpy-2.0.2\n",
      "\u001b[33mWARNING: You are using pip version 21.2.4; however, version 24.3.1 is available.\n",
      "You should consider upgrading via the '/Library/Developer/CommandLineTools/usr/bin/python3 -m pip install --upgrade pip' command.\u001b[0m\n",
      "Note: you may need to restart the kernel to use updated packages.\n"
     ]
    }
   ],
   "source": [
    "%pip install numpy"
   ]
  },
  {
   "cell_type": "code",
   "execution_count": 1,
   "metadata": {},
   "outputs": [],
   "source": [
    "import numpy as np\n",
    "\n",
    "# Define Array\n",
    "x_arr = [\n",
    "    [\n",
    "        [4, -1, 2],\n",
    "        [3, 6, -1],\n",
    "        [2, 1, 5],\n",
    "    ],\n",
    "    [\n",
    "        [6, -1, 2, 0],\n",
    "        [3, 9, 1, -4],\n",
    "        [1, 2, 7, -1],\n",
    "        [2, -3, 1, 8],\n",
    "    ],\n",
    "    [\n",
    "        [6, -1, 2, 0, 0],\n",
    "        [1, 10, 3, -2, 0],\n",
    "        [2, -1, 12, 1, -4],\n",
    "        [0, 3, -2, 9, 1],\n",
    "        [1, -2, 1, 3, 8],\n",
    "    ]\n",
    "]\n",
    "\n",
    "y_arr = [\n",
    "    [8, 9, 3],\n",
    "    [12, 18, 14, 4],\n",
    "    [14, 20, 22, 12, 15],\n",
    "]"
   ]
  },
  {
   "cell_type": "code",
   "execution_count": 6,
   "metadata": {},
   "outputs": [],
   "source": [
    "def check_diagonal_dominant(x):\n",
    "    # change into array\n",
    "    x = np.array(x)\n",
    "    # take out the diagonal from the array\n",
    "    diag = np.diag(np.abs(x))\n",
    "    # take out the non-diagonal\n",
    "    non_diag = np.sum(np.abs(x), axis = 1)\n",
    "    # check if the diagonal >= non_diag\n",
    "    if np.all(diag >= non_diag - diag):\n",
    "        return True\n",
    "    else:\n",
    "        return False\n",
    "    \n",
    "def gauss_seidel(x_arr, y_arr, max_iteration, epsilon):\n",
    "    # change into array\n",
    "    x = np.array(x_arr)\n",
    "    y = np.array(y_arr)\n",
    "    iteration = max_iteration\n",
    "    epsilon = epsilon\n",
    "    \n",
    "    diag = np.diag(x)\n",
    "    \n",
    "    x = -x\n",
    "    \n",
    "    np.fill_diagonal(x, 0)\n",
    "\n",
    "    x_old = np.zeros(len(x))\n",
    "    \n",
    "    for i in range(iteration):\n",
    "        x_new = np.array(x_old)\n",
    "        \n",
    "        \n",
    "        for j, row in enumerate(x):\n",
    "            # formula gauss-seidel\n",
    "            x_new[j] = (y[j] + np.dot(row, x_new)) / diag[j]\n",
    "\n",
    "        print(f\"Iteration: {i+1}, {x_new}\")\n",
    "        \n",
    "        # error => Ecluidean Distance\n",
    "        ecludean_Distance = np.sqrt(np.dot(x_old - x_new, x_old - x_new))\n",
    "            \n",
    "        if ecludean_Distance < epsilon:\n",
    "            print(\"Convergence range reached at {i+1} iteration\")\n",
    "            print(x_new)\n",
    "            return True\n",
    "        \n",
    "        x_old = x_new\n",
    "        \n",
    "    return False\n",
    "\n",
    "def run_gauss_seidel(x_arr, y_arr, max_iter, epsilon):\n",
    "    for i, x in enumerate(x_arr):\n",
    "        if check_diagonal_dominant(x):\n",
    "            print(\"Diagonaly Dominant!\")\n",
    "            if gauss_seidel(x_arr, y_arr, max_iter, epsilon):\n",
    "                print(\"Convergence reached!\")\n",
    "        else:\n",
    "            print(\"Not Diagonaly Dominant!\")"
   ]
  },
  {
   "cell_type": "code",
   "execution_count": 7,
   "metadata": {},
   "outputs": [
    {
     "name": "stdout",
     "output_type": "stream",
     "text": [
      "Diagonaly Dominant!\n"
     ]
    },
    {
     "ename": "ValueError",
     "evalue": "setting an array element with a sequence. The requested array has an inhomogeneous shape after 1 dimensions. The detected shape was (3,) + inhomogeneous part.",
     "output_type": "error",
     "traceback": [
      "\u001b[0;31m---------------------------------------------------------------------------\u001b[0m",
      "\u001b[0;31mValueError\u001b[0m                                Traceback (most recent call last)",
      "Cell \u001b[0;32mIn[7], line 1\u001b[0m\n\u001b[0;32m----> 1\u001b[0m \u001b[43mrun_gauss_seidel\u001b[49m\u001b[43m(\u001b[49m\u001b[43mx_arr\u001b[49m\u001b[43m,\u001b[49m\u001b[43m \u001b[49m\u001b[43my_arr\u001b[49m\u001b[43m,\u001b[49m\u001b[43m \u001b[49m\u001b[38;5;241;43m20\u001b[39;49m\u001b[43m,\u001b[49m\u001b[43m \u001b[49m\u001b[38;5;241;43m0.001\u001b[39;49m\u001b[43m)\u001b[49m\n",
      "Cell \u001b[0;32mIn[6], line 55\u001b[0m, in \u001b[0;36mrun_gauss_seidel\u001b[0;34m(x_arr, y_arr, max_iter, epsilon)\u001b[0m\n\u001b[1;32m     53\u001b[0m \u001b[38;5;28;01mif\u001b[39;00m check_diagonal_dominant(x):\n\u001b[1;32m     54\u001b[0m     \u001b[38;5;28mprint\u001b[39m(\u001b[38;5;124m\"\u001b[39m\u001b[38;5;124mDiagonaly Dominant!\u001b[39m\u001b[38;5;124m\"\u001b[39m)\n\u001b[0;32m---> 55\u001b[0m     \u001b[38;5;28;01mif\u001b[39;00m \u001b[43mgauss_seidel\u001b[49m\u001b[43m(\u001b[49m\u001b[43mx_arr\u001b[49m\u001b[43m,\u001b[49m\u001b[43m \u001b[49m\u001b[43my_arr\u001b[49m\u001b[43m,\u001b[49m\u001b[43m \u001b[49m\u001b[43mmax_iter\u001b[49m\u001b[43m,\u001b[49m\u001b[43m \u001b[49m\u001b[43mepsilon\u001b[49m\u001b[43m)\u001b[49m:\n\u001b[1;32m     56\u001b[0m         \u001b[38;5;28mprint\u001b[39m(\u001b[38;5;124m\"\u001b[39m\u001b[38;5;124mConvergence reached!\u001b[39m\u001b[38;5;124m\"\u001b[39m)\n\u001b[1;32m     57\u001b[0m \u001b[38;5;28;01melse\u001b[39;00m:\n",
      "Cell \u001b[0;32mIn[6], line 16\u001b[0m, in \u001b[0;36mgauss_seidel\u001b[0;34m(x_arr, y_arr, max_iteration, epsilon)\u001b[0m\n\u001b[1;32m     14\u001b[0m \u001b[38;5;28;01mdef\u001b[39;00m\u001b[38;5;250m \u001b[39m\u001b[38;5;21mgauss_seidel\u001b[39m(x_arr, y_arr, max_iteration, epsilon):\n\u001b[1;32m     15\u001b[0m     \u001b[38;5;66;03m# change into array\u001b[39;00m\n\u001b[0;32m---> 16\u001b[0m     x \u001b[38;5;241m=\u001b[39m \u001b[43mnp\u001b[49m\u001b[38;5;241;43m.\u001b[39;49m\u001b[43marray\u001b[49m\u001b[43m(\u001b[49m\u001b[43mx_arr\u001b[49m\u001b[43m)\u001b[49m\n\u001b[1;32m     17\u001b[0m     y \u001b[38;5;241m=\u001b[39m np\u001b[38;5;241m.\u001b[39marray(y_arr)\n\u001b[1;32m     18\u001b[0m     iteration \u001b[38;5;241m=\u001b[39m max_iteration\n",
      "\u001b[0;31mValueError\u001b[0m: setting an array element with a sequence. The requested array has an inhomogeneous shape after 1 dimensions. The detected shape was (3,) + inhomogeneous part."
     ]
    }
   ],
   "source": [
    "run_gauss_seidel(x_arr, y_arr, 20, 0.001)"
   ]
  }
 ],
 "metadata": {
  "kernelspec": {
   "display_name": "Python 3",
   "language": "python",
   "name": "python3"
  },
  "language_info": {
   "codemirror_mode": {
    "name": "ipython",
    "version": 3
   },
   "file_extension": ".py",
   "mimetype": "text/x-python",
   "name": "python",
   "nbconvert_exporter": "python",
   "pygments_lexer": "ipython3",
   "version": "3.9.6"
  }
 },
 "nbformat": 4,
 "nbformat_minor": 2
}
